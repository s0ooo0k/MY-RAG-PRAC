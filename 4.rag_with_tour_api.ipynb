{
 "cells": [
  {
   "cell_type": "markdown",
   "id": "b0e6a944",
   "metadata": {},
   "source": [
    "# MYSQL, LangCahin, Tour DB 이용한 RAG\n",
    "1. MySQL -> 관광 정보 불러오기\n",
    "2. LangChain으로 텍스트 쪼개기 + 벡터화 + Chroma 저장\n",
    "3. 사용자 질문 입력 -> 유사한 관광 정보 검색\n",
    "4. LangChain + Gemini 로 답변 생성\n"
   ]
  },
  {
   "cell_type": "code",
   "execution_count": null,
   "id": "71decac3",
   "metadata": {},
   "outputs": [],
   "source": [
    "%pip install mysql-connector-python sqlalchemy\n",
    "%pip install langchain langchain-google-genai chromadb python-dotenv"
   ]
  },
  {
   "cell_type": "code",
   "execution_count": null,
   "id": "41ea6d0f",
   "metadata": {},
   "outputs": [],
   "source": [
    "from sqlalchemy import create_engine, text\n",
    "from dotenv import load_dotenv\n",
    "\n",
    "#langchain\n",
    "from langchain.text_splitter import RecursiveCharacterTextSplitter\n",
    "from langchain.vectorstores import Chroma\n",
    "from langchain_google_genai import GoogleGenerativeAIEmbeddings\n",
    "import os\n",
    "\n",
    "load_dotenv()\n",
    "\n",
    "# DB 연결 위한 SQLAlchemy 엔진 만들기\n",
    "# engine -> MySQL과 연결된 가상 연결 객체\n",
    "engine = create_engine(os.getenv(\"DB_URL\"))"
   ]
  },
  {
   "cell_type": "code",
   "execution_count": null,
   "id": "7a86a16d",
   "metadata": {},
   "outputs": [],
   "source": [
    "# [TABLE] Content, PET_TOUR_INFO 조인, 데이터 불러오기\n",
    "with engine.connect() as conn:\n",
    "    result = conn.execute(text(\n",
    "        \"\"\"\n",
    "        SELECT\n",
    "            c.contentid,\n",
    "            c.title,\n",
    "            c.overview,\n",
    "            c.addr1,\n",
    "            c.addr2,\n",
    "            pt.rela_acdnt_risk_mtr,\n",
    "            pt.acmpy_type_cd,\n",
    "            pt.rela_poses_fclty,\n",
    "            pt.etc_acmpy_info,\n",
    "            pt.acmpy_need_mtr\n",
    "        FROM Content c\n",
    "        JOIN Pet_Tour_Info pt ON c.contentid=pt.contentid\n",
    "\"\"\"))\n",
    "    \n",
    "# 쿼리 결과를 텍스트로 조합하기\n",
    "data = []\n",
    "for row in result:\n",
    "    text_parts = [\n",
    "        f\"[이름] {row.title}\",\n",
    "        f\"[설명] {row.overview}\",\n",
    "        f\"[주소] {row.addr1 or ''} {row.addr2 or ''}\",\n",
    "    ]\n",
    "    \n",
    "    # 반려동물 관련 정보 추가\n",
    "    if row.acmpy_type_cd:\n",
    "        text_parts.append(f\"[동반유형] {row.acmpy_type_cd}\")\n",
    "    if row.rela_acdnt_risk_mtr:\n",
    "        text_parts.append(f\"[위험요소] {row.rela_acdnt_risk_mtr}\")\n",
    "    if row.rela_poses_fclty:\n",
    "        text_parts.append(f\"[구비시설] {row.rela_poses_fclty}\")\n",
    "    if row.etc_acmpy_info:\n",
    "        text_parts.append(f\"[기타정보] {row.etc_acmpy_info}\")\n",
    "    if row.acmpy_need_mtr:\n",
    "        text_parts.append(f\"[유의사항] {row.acmpy_need_mtr}\")\n",
    "        \n",
    "    combined_text=\" \".join(text_parts)\n",
    "    data.append(combined_text.strip())\n",
    "    \n",
    "# print(data[:3])"
   ]
  },
  {
   "cell_type": "code",
   "execution_count": 10,
   "id": "7a4f1c3e",
   "metadata": {},
   "outputs": [],
   "source": [
    "# 텍스트 청킹\n",
    "# from langchain.text_splitter import RecursiveCharacterTextSplitter\n",
    "\n",
    "# splitter 이용하여 자르기\n",
    "splitter = RecursiveCharacterTextSplitter(\n",
    "    # 청크 사이즈 300\n",
    "    chunk_size=300, \n",
    "    # 겹치는 글자수\n",
    "    chunk_overlap=50\n",
    ")\n",
    "\n",
    "# 청크 나누기\n",
    "docs = splitter.create_documents(data)"
   ]
  },
  {
   "cell_type": "code",
   "execution_count": 27,
   "id": "675b789f",
   "metadata": {},
   "outputs": [],
   "source": [
    "# 임베딩(벡터화)\n",
    "# text-multilingual-embedding-002 모델 사용\n",
    "load_dotenv()\n",
    "embedding = GoogleGenerativeAIEmbeddings(\n",
    "    model='models/embedding-001'\n",
    ")"
   ]
  },
  {
   "cell_type": "code",
   "execution_count": null,
   "id": "4797def8",
   "metadata": {},
   "outputs": [],
   "source": [
    "# Chroma Vector DB에 벡터화 내용 저장\n",
    "# (테스트용) 로컬에 저장해서 다음에 사용할 수 있게 -> 추후 Qdrant로 전환\n",
    "\n",
    "from langchain.vectorstores import Chroma\n",
    "\n",
    "vectorstore = Chroma.from_documents(\n",
    "    docs,\n",
    "    embedding=embedding,\n",
    "    persist_directory=\"./tour_pet\"        \n",
    ")\n",
    "\n",
    "vectorstore.persist()"
   ]
  },
  {
   "cell_type": "code",
   "execution_count": null,
   "id": "5aa9721e",
   "metadata": {},
   "outputs": [],
   "source": [
    "# retriever > 질문에 가까운 문장 찾기\n",
    "retriever = vectorstore.as_retriever()\n",
    "\n",
    "query = \"강아지랑 놀러가기 좋은 서울 공원 있어?\"\n",
    "matched_docs = retriever.get_relevant_documents(query)\n",
    "\n",
    "for i, doc in enumerate(matched_docs[:3], 1):\n",
    "    print(f\"{i}: \\n{doc.page_content}\")"
   ]
  },
  {
   "cell_type": "code",
   "execution_count": null,
   "id": "cc5e6b13",
   "metadata": {},
   "outputs": [],
   "source": [
    "# from langchain.chains import RetrievalQA\n",
    "# from langchain_google_genai import ChatGoogleGenerativeAI\n",
    "\n",
    "# llm = ChatGoogleGenerativeAI(\n",
    "#       model=\"gemini-1.5-pro\")\n",
    "\n",
    "# qa_chain = RetrievalQA.from_chain_type(\n",
    "#     llm=llm,\n",
    "#     retriever=retriever,   # 기존 Chroma retriever 사용\n",
    "#     return_source_documents=True,  # 답변과 함께 근거 문서도 반환\n",
    "# )\n",
    "\n",
    "# query = \"강아지 쫑쫑이랑 같이 갈 수 있는 인천에 있는 반려동물 동반 가능한 공원을 알려줘. 관광지 이름도 같이 알려줘.\"\n",
    "\n",
    "# result = qa_chain.invoke({\"query\": query})\n",
    "# print(result[\"result\"])"
   ]
  },
  {
   "cell_type": "code",
   "execution_count": null,
   "id": "e5205b0d",
   "metadata": {},
   "outputs": [],
   "source": [
    "filtered_docs = [doc for doc in docs if \"강원\" in doc.page_content]\n",
    "print(f\"강원 청크: {len(filtered_docs)}\")\n",
    "\n",
    "from langchain.vectorstores import Chroma\n",
    "\n",
    "filtered_vectorstore = Chroma.from_documents(\n",
    "    filtered_docs,\n",
    "    embedding=embedding\n",
    ")\n",
    "filtered_retriever = filtered_vectorstore.as_retriever()"
   ]
  },
  {
   "cell_type": "code",
   "execution_count": 76,
   "id": "5d2a005e",
   "metadata": {},
   "outputs": [],
   "source": [
    "from langchain.prompts import PromptTemplate\n",
    "from langchain.chains import RetrievalQA\n",
    "# from langchain_google_genai import ChatGoogleGenerativeAI\n",
    "\n",
    "# Gemini LLM 설정\n",
    "llm = ChatGoogleGenerativeAI(\n",
    "    model=\"gemini-1.5-pro\"\n",
    ")\n"
   ]
  },
  {
   "cell_type": "code",
   "execution_count": 79,
   "id": "0da0bf7e",
   "metadata": {},
   "outputs": [
    {
     "name": "stdout",
     "output_type": "stream",
     "text": [
      "🐶: 맞춤 장소를 추천해드릴게요!\n",
      "\n",
      "- 장소명: 휘닉스 평창 콘도\n",
      "- 설명: 다양한 부대시설(수영장, 볼링장, 당구장, 마사지, 편의점 등)을 갖춘 고급 콘도. 반려동물 동반 가능 여부는 명시되지 않았으므로, 콘도에 직접 문의 필요.\n",
      "- 주소: 강원특별자치도 평창군 봉평면 태기로\n",
      "- 반려동물 관련 정보:  문의 필요\n",
      "\n",
      "- 장소명: 무릉도원면 캠핑장 (이름 불명)\n",
      "- 설명: 수영장, 매점, 미니게임장 등 부대시설을 갖춘 캠핑장. 일부 구역 반려동물 동반 가능. 주변에 고씨동굴, 선돌, 한반도지형 등 관광지 위치.\n",
      "- 주소: 강원특별자치도 영월군 무릉도원면 도원운학로 475-10\n",
      "- 반려동물 관련 정보: 일부구역 동반 가능\n",
      "\n",
      "- 장소명: 법흥계곡 캠핑장 (이름 불명)\n",
      "- 설명: 캠핑 장비 대여 가능, 365일 운영, 반려견 입장 가능. 주류, 음료, 식품 등 판매하는 매점 있음.\n",
      "- 주소: 강원특별자치도 영월군 무릉도원면 무릉법흥로 968-12\n",
      "- 반려동물 관련 정보: 반려견 동반 가능\n",
      "\n",
      "\n",
      "위 세 곳 외에 질문에 제시된 정보에는 반려동물 동반 가능한 펜션, 숙소, 호텔, 모텔 정보가 없습니다.  평창/영월 지역의 반려동물 동반 숙소는 추가 검색을 통해 찾아보시는 것을 권장합니다.\n",
      "\n",
      "\n",
      "**추가적으로, 평창 관광 정보:**\n",
      "\n",
      "허브나라, 월정사 전나무숲길, 효석달빛언덕, 대관령양떼목장, 오대산, 발왕산케이블카 등이 있으며, 평창 관광택시를 이용하여 편리하게 여행 가능합니다. (단, 반려동물 동반 가능 여부는 택시 기사님께 확인 필요)\n"
     ]
    }
   ],
   "source": [
    "\n",
    "# 유도형 프롬프트\n",
    "custom_prompt = PromptTemplate.from_template(\n",
    "    \"\"\"\n",
    "    다음 정보를 참고해주세요\n",
    "    {context}\n",
    "    \n",
    "    사용자의 질문에 따라 적절한 장소를 다음 형식으로 추천해주세요:\n",
    "    - 장소명: OOO\n",
    "    - 설명: 간단한 설명\n",
    "    - 주소: 가능하면 포함\n",
    "    - 반려동물 관련 정보 : 최대한 포함\n",
    "\n",
    "    질문: {question}\n",
    "    \"\"\"\n",
    ")\n",
    "\n",
    "\n",
    "qa_chain_filtered = RetrievalQA.from_chain_type(\n",
    "    llm=llm,\n",
    "    retriever=filtered_retriever,\n",
    "    chain_type_kwargs={\"prompt\": custom_prompt},\n",
    "    return_source_documents=True,\n",
    "    input_key=\"question\"\n",
    "    \n",
    ")\n",
    "\n",
    "query = \"말티즈즈 쫑쫑이랑 같이 갈 수 있는 강원도에 있는 반려동물 동반 가능한 펜션, 숙소, 호텔, 모텔을을 알려줘. 관광지 이름도 같이 알려줘.\"\n",
    "result = qa_chain_filtered.invoke({\"question\": query})\n",
    "\n",
    "print(\"🐶: 맞춤 장소를 추천해드릴게요!\\n\")\n",
    "print(result[\"result\"])"
   ]
  }
 ],
 "metadata": {
  "kernelspec": {
   "display_name": "llm-application",
   "language": "python",
   "name": "python3"
  },
  "language_info": {
   "codemirror_mode": {
    "name": "ipython",
    "version": 3
   },
   "file_extension": ".py",
   "mimetype": "text/x-python",
   "name": "python",
   "nbconvert_exporter": "python",
   "pygments_lexer": "ipython3",
   "version": "3.10.0"
  }
 },
 "nbformat": 4,
 "nbformat_minor": 5
}
