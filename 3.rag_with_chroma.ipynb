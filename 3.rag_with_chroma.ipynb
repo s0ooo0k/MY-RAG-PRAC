{
 "cells": [
  {
   "cell_type": "code",
   "execution_count": null,
   "id": "fbc53643",
   "metadata": {},
   "outputs": [],
   "source": [
    "%pip install --upgrade --quiet docx2txt langchain-community\n",
    "# text spliter\n",
    "%pip install -U langchain-text-splitters\n",
    "# chroma 사용\n",
    "%pip install langchain-chroma\n",
    "# RetrievalQA Chain -> Q&A\n",
    "# langchainhub 프롬프트 다수 제공\n",
    "%pip install -U langchain langchainhub --quiet"
   ]
  },
  {
   "cell_type": "code",
   "execution_count": 5,
   "id": "2c63aa58",
   "metadata": {},
   "outputs": [],
   "source": [
    "from langchain_community.document_loaders import Docx2txtLoader\n",
    "from langchain_text_splitters import RecursiveCharacterTextSplitter\n",
    "\n",
    "text_splitter = RecursiveCharacterTextSplitter(\n",
    "    chunk_size=1500, # 하나의 청크가 가질 수 있는 토큰 수\n",
    "    chunk_overlap=200, # 겹쳐서 자르기 오버랩(유사도 검색시 범위를 늘려줌줌)\n",
    ")\n",
    "\n",
    "loader = Docx2txtLoader('./tax.docx')\n",
    "document_list = loader.load_and_split(text_splitter=text_splitter)"
   ]
  },
  {
   "cell_type": "code",
   "execution_count": 6,
   "id": "658d024c",
   "metadata": {},
   "outputs": [],
   "source": [
    "# 실행 테스트\n",
    "# document_list"
   ]
  },
  {
   "cell_type": "code",
   "execution_count": 9,
   "id": "358d9704",
   "metadata": {},
   "outputs": [],
   "source": [
    "from dotenv import load_dotenv\n",
    "from langchain_openai import OpenAIEmbeddings\n",
    "\n",
    "load_dotenv\n",
    "embedding = OpenAIEmbeddings(model='text-embedding-3-large')"
   ]
  },
  {
   "cell_type": "code",
   "execution_count": null,
   "id": "716da31d",
   "metadata": {},
   "outputs": [],
   "source": [
    "from langchain_chroma import Chroma\n",
    "\n",
    "# embedding 한 내용을 바탕으로 쪼개서 저장\n",
    "# chroma는 인메모리 \n",
    "# database = Chroma.from_documents(documents=document_list, embedding=embedding)\n",
    "\n",
    "# persist_directory 활용\n",
    "# collection_name : 테이블 네임\n",
    "# persist_directory : 저장 결과 -> 남아있게 된다\n",
    "database = Chroma.from_documents(documents=document_list, embedding=embedding, collection_name='chroma-tax', persist_directory=\"./chroma\")\n",
    "\n",
    "# 이미 저장된 데이터를 사용할 때 \n",
    "# database = Chroma(collection_name='chroma-tax', persist_directory=\"./chroma\", embedding_function=embedding)"
   ]
  },
  {
   "cell_type": "code",
   "execution_count": null,
   "id": "9c61410e",
   "metadata": {},
   "outputs": [],
   "source": [
    "query='연봉 5천만원인 직장인의 소득세는?'\n",
    "\n",
    "# 유사도 검색\n",
    "# similarity_search(query, k) : k는 유사도 검색 결과 개수\n",
    "retrieve_docs = database.similarity_search(query)"
   ]
  },
  {
   "cell_type": "code",
   "execution_count": null,
   "id": "fd294c92",
   "metadata": {},
   "outputs": [],
   "source": [
    "# 이제 검색을 하자\n",
    "# from langchain_openai import ChatOpenAI\n",
    "# llm = ChatOpenAI(model='gpt-4o')\n",
    "\n",
    "# prompt= f\"\"\"\n",
    "# RTF에 맞춰서 프롬프팅\n",
    "# \"\"\"\n",
    "\n",
    "# gpt_msg = llm.invoke(prompt)\n",
    "# gpt_msg.content"
   ]
  },
  {
   "cell_type": "code",
   "execution_count": null,
   "id": "b3e2d54f",
   "metadata": {},
   "outputs": [],
   "source": [
    "from langchain_openai import ChatOpenAI\n",
    "llm = ChatOpenAI(model='gpt-4o')\n",
    "\n",
    "from langchain import hub\n",
    "prompt = hub.pull(\"rlm/rag-prompt\")"
   ]
  },
  {
   "cell_type": "code",
   "execution_count": null,
   "id": "3fb5f21e",
   "metadata": {},
   "outputs": [],
   "source": [
    "from langchain.chains import RetrievalQA\n",
    "\n",
    "qa_chain = RetrievalQA.from_chain_type(\n",
    "    llm, \n",
    "    # 값 가져오기\n",
    "    retriever=database.as_retriever(),\n",
    "    chain_type_kwargs={\"prompt\": prompt}\n",
    ")"
   ]
  },
  {
   "cell_type": "code",
   "execution_count": null,
   "id": "4118f008",
   "metadata": {},
   "outputs": [],
   "source": [
    "ai_message = qa_chain.invoke({\"query\":query})\n",
    "ai_message"
   ]
  }
 ],
 "metadata": {
  "kernelspec": {
   "display_name": "llm-application",
   "language": "python",
   "name": "python3"
  },
  "language_info": {
   "codemirror_mode": {
    "name": "ipython",
    "version": 3
   },
   "file_extension": ".py",
   "mimetype": "text/x-python",
   "name": "python",
   "nbconvert_exporter": "python",
   "pygments_lexer": "ipython3",
   "version": "3.10.0"
  }
 },
 "nbformat": 4,
 "nbformat_minor": 5
}
