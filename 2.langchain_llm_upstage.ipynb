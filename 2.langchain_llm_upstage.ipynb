{
 "cells": [
  {
   "cell_type": "code",
   "execution_count": null,
   "id": "9e11fcce",
   "metadata": {},
   "outputs": [],
   "source": [
    "%pip install python-dotenv langchain-upstage"
   ]
  },
  {
   "cell_type": "code",
   "execution_count": 2,
   "id": "d3552589",
   "metadata": {},
   "outputs": [],
   "source": [
    "from langchain_upstage import ChatUpstage\n",
    "from langchain_core.messages import HumanMessage"
   ]
  },
  {
   "cell_type": "code",
   "execution_count": null,
   "id": "019d053c",
   "metadata": {},
   "outputs": [],
   "source": [
    "from dotenv import load_dotenv\n",
    "load_dotenv()"
   ]
  },
  {
   "cell_type": "code",
   "execution_count": 5,
   "id": "ad054fa3",
   "metadata": {},
   "outputs": [],
   "source": [
    "from langchain_upstage import ChatUpstage\n",
    "llm=ChatUpstage()\n",
    "ai_message=llm.invoke(\"강원도 속초에 강아지랑 같이 갈 수 있는 숙소소\")"
   ]
  },
  {
   "cell_type": "code",
   "execution_count": 6,
   "id": "fae02eb2",
   "metadata": {},
   "outputs": [
    {
     "data": {
      "text/plain": [
       "'강원도 속초에는 강아지랑 함께 즐길 수 있는 여러 숙소가 있습니다. 그 중에서도 일부 숙소들은 반려동물과 함께 머무를 수 있는 편의시설을 제공하고 있습니다. 아래에는 몇 가지 추천 숙소를 소개해드리겠습니다:\\n\\n1. 설악 메이힐스 리조트: 아름다운 설악산 국립공원 근처에 위치한 이 리조트는 반려동물과 함께 객실을 이용할 수 있습니다. 산책로와 주변 자연환경을 즐길 수 있습니다.\\n2. 한화 리조트 설악: 반려동물을 환영하는 한화 리조트 설악은 넓은 객실과 편리한 시설을 제공합니다. 주변에는 산책하기 좋은 장소도 많이 있습니다.\\n3. 위드유 속초: 이 숙소는 반려동물과 함께 머무를 수 있는 객실을 제공합니다. 속초 시내에 위치해 다양한 관광 명소와 가까워 편리합니다.\\n4. 속초아이파크 스위트: 이 호텔은 고급스러운 시설과 함께 반려동물 친화적인 객실을 제공합니다. 속초의 아름다운 전망을 감상할 수 있습니다.\\n5. 속초 dms 리조트: 반려동물과 함께 휴식을 취할 수 있는 이 리조트는 편안하고 넓은 객실을 제공합니다. 주변에는 해변과 산책로가 있어 좋습니다.\\n\\n숙소를 예약하기 전에, 해당 숙소에게 반려동물 동반 가능 여부 및 관련 정책과 추가 비용에 대해 확인하는 것이 좋습니다. 또한, 반려동물을 위한 편의시설이나 주변 산책로, 애견 공원 등의 정보를 미리 알아두는 것도 도움이 될 것입니다.'"
      ]
     },
     "execution_count": 6,
     "metadata": {},
     "output_type": "execute_result"
    }
   ],
   "source": [
    "ai_message.content"
   ]
  }
 ],
 "metadata": {
  "kernelspec": {
   "display_name": "llm-application",
   "language": "python",
   "name": "python3"
  },
  "language_info": {
   "codemirror_mode": {
    "name": "ipython",
    "version": 3
   },
   "file_extension": ".py",
   "mimetype": "text/x-python",
   "name": "python",
   "nbconvert_exporter": "python",
   "pygments_lexer": "ipython3",
   "version": "3.10.0"
  }
 },
 "nbformat": 4,
 "nbformat_minor": 5
}
